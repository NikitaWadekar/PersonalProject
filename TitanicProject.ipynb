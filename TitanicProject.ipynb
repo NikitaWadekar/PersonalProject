{
  "nbformat": 4,
  "nbformat_minor": 0,
  "metadata": {
    "colab": {
      "name": "TitanicProject.ipynb",
      "provenance": [],
      "collapsed_sections": [],
      "toc_visible": true
    },
    "kernelspec": {
      "name": "python3",
      "display_name": "Python 3"
    },
    "language_info": {
      "name": "python"
    }
  },
  "cells": [
    {
      "cell_type": "markdown",
      "metadata": {
        "id": "5GqeEBra-9Zq"
      },
      "source": [
        "Titanic Project"
      ]
    },
    {
      "cell_type": "markdown",
      "metadata": {
        "id": "mqAwn9MXS4H2"
      },
      "source": [
        "This project explores the titanic dataset from Kaggle repository in Google Colab environment. The titanic dataset is divided into training and test dataset. Using supervised machine learning models, predicted the target variable for the test dataset."
      ]
    },
    {
      "cell_type": "code",
      "metadata": {
        "colab": {
          "base_uri": "https://localhost:8080/"
        },
        "id": "IRoIyv2ocv39",
        "outputId": "e10c29f8-8c52-4736-cd79-89aded0aa4c1"
      },
      "source": [
        "#Mount the Google Drive\n",
        "from google.colab import drive\n",
        "drive.mount('/drive')"
      ],
      "execution_count": 1,
      "outputs": [
        {
          "output_type": "stream",
          "name": "stdout",
          "text": [
            "Mounted at /drive\n"
          ]
        }
      ]
    },
    {
      "cell_type": "code",
      "metadata": {
        "colab": {
          "base_uri": "https://localhost:8080/"
        },
        "id": "75eYxtpQS3Kp",
        "outputId": "b0c9b76e-c093-4965-fb85-a7c1b6e927dc"
      },
      "source": [
        "! pip install kaggle"
      ],
      "execution_count": 2,
      "outputs": [
        {
          "output_type": "stream",
          "name": "stdout",
          "text": [
            "Requirement already satisfied: kaggle in /usr/local/lib/python3.7/dist-packages (1.5.12)\n",
            "Requirement already satisfied: requests in /usr/local/lib/python3.7/dist-packages (from kaggle) (2.23.0)\n",
            "Requirement already satisfied: certifi in /usr/local/lib/python3.7/dist-packages (from kaggle) (2021.5.30)\n",
            "Requirement already satisfied: python-dateutil in /usr/local/lib/python3.7/dist-packages (from kaggle) (2.8.2)\n",
            "Requirement already satisfied: urllib3 in /usr/local/lib/python3.7/dist-packages (from kaggle) (1.24.3)\n",
            "Requirement already satisfied: python-slugify in /usr/local/lib/python3.7/dist-packages (from kaggle) (5.0.2)\n",
            "Requirement already satisfied: tqdm in /usr/local/lib/python3.7/dist-packages (from kaggle) (4.62.3)\n",
            "Requirement already satisfied: six>=1.10 in /usr/local/lib/python3.7/dist-packages (from kaggle) (1.15.0)\n",
            "Requirement already satisfied: text-unidecode>=1.3 in /usr/local/lib/python3.7/dist-packages (from python-slugify->kaggle) (1.3)\n",
            "Requirement already satisfied: chardet<4,>=3.0.2 in /usr/local/lib/python3.7/dist-packages (from requests->kaggle) (3.0.4)\n",
            "Requirement already satisfied: idna<3,>=2.5 in /usr/local/lib/python3.7/dist-packages (from requests->kaggle) (2.10)\n"
          ]
        }
      ]
    },
    {
      "cell_type": "code",
      "metadata": {
        "id": "Cyy2T-p-YDCz"
      },
      "source": [
        "#Create Directory\n",
        "! mkdir ~/.kaggle"
      ],
      "execution_count": 3,
      "outputs": []
    },
    {
      "cell_type": "code",
      "metadata": {
        "id": "lqABXHckYPWl"
      },
      "source": [
        "#Copy the Kaggle JSON File\n",
        "!cp \"/drive/MyDrive/Colab Notebooks/kaggle.json\" ~/.kaggle/"
      ],
      "execution_count": 4,
      "outputs": []
    },
    {
      "cell_type": "code",
      "metadata": {
        "id": "mL8NAMzZYTVr"
      },
      "source": [
        "#Modify the permissions of JSON file\n",
        "!chmod 600 ~/.kaggle/kaggle.json"
      ],
      "execution_count": 5,
      "outputs": []
    },
    {
      "cell_type": "code",
      "metadata": {
        "colab": {
          "base_uri": "https://localhost:8080/"
        },
        "id": "Q2aRygSDYX1U",
        "outputId": "8cedf08b-f525-42c7-cc53-854846b5de2d"
      },
      "source": [
        "#Download the titanic dataset using API Command\n",
        "!kaggle datasets download -d brendan45774/test-file"
      ],
      "execution_count": 6,
      "outputs": [
        {
          "output_type": "stream",
          "name": "stdout",
          "text": [
            "Downloading test-file.zip to /content\n",
            "\r  0% 0.00/11.2k [00:00<?, ?B/s]\n",
            "\r100% 11.2k/11.2k [00:00<00:00, 10.5MB/s]\n"
          ]
        }
      ]
    },
    {
      "cell_type": "code",
      "metadata": {
        "id": "3H2RninsYjUw"
      },
      "source": [
        "#Export the data from zip file\n",
        "import zipfile\n",
        "with zipfile.ZipFile('/content/test-file.zip', 'r') as zip_ref:\n",
        "    zip_ref.extractall('/content')"
      ],
      "execution_count": 7,
      "outputs": []
    },
    {
      "cell_type": "code",
      "metadata": {
        "id": "ob8Y16_GZTpi"
      },
      "source": [
        "#Import statement\n",
        "import numpy as np\n",
        "import pandas as pd\n",
        "import matplotlib.pyplot as plt\n",
        "import seaborn as sns\n",
        "from sklearn.model_selection import train_test_split, GridSearchCV, cross_val_score\n",
        "from sklearn import svm\n",
        "from sklearn.ensemble import RandomForestClassifier\n",
        "from sklearn.naive_bayes import GaussianNB\n",
        "from sklearn.metrics import accuracy_score, precision_score, recall_score, f1_score, roc_auc_score, confusion_matrix"
      ],
      "execution_count": 89,
      "outputs": []
    },
    {
      "cell_type": "markdown",
      "metadata": {
        "id": "1rRgiCsSuC9f"
      },
      "source": [
        "# Exploratory Data Analysis"
      ]
    },
    {
      "cell_type": "code",
      "metadata": {
        "colab": {
          "base_uri": "https://localhost:8080/",
          "height": 203
        },
        "id": "uHCyk-2DZcnX",
        "outputId": "aff74cd0-d5b8-4db1-a4bc-02ffe1a60a28"
      },
      "source": [
        "#Read the CSV file\n",
        "df_titanic_dataset = pd.read_csv('/content/tested.csv', delimiter = \",\")\n",
        "df_titanic_dataset.head()"
      ],
      "execution_count": 104,
      "outputs": [
        {
          "output_type": "execute_result",
          "data": {
            "text/html": [
              "<div>\n",
              "<style scoped>\n",
              "    .dataframe tbody tr th:only-of-type {\n",
              "        vertical-align: middle;\n",
              "    }\n",
              "\n",
              "    .dataframe tbody tr th {\n",
              "        vertical-align: top;\n",
              "    }\n",
              "\n",
              "    .dataframe thead th {\n",
              "        text-align: right;\n",
              "    }\n",
              "</style>\n",
              "<table border=\"1\" class=\"dataframe\">\n",
              "  <thead>\n",
              "    <tr style=\"text-align: right;\">\n",
              "      <th></th>\n",
              "      <th>PassengerId</th>\n",
              "      <th>Survived</th>\n",
              "      <th>Pclass</th>\n",
              "      <th>Name</th>\n",
              "      <th>Sex</th>\n",
              "      <th>Age</th>\n",
              "      <th>SibSp</th>\n",
              "      <th>Parch</th>\n",
              "      <th>Ticket</th>\n",
              "      <th>Fare</th>\n",
              "      <th>Cabin</th>\n",
              "      <th>Embarked</th>\n",
              "    </tr>\n",
              "  </thead>\n",
              "  <tbody>\n",
              "    <tr>\n",
              "      <th>0</th>\n",
              "      <td>892</td>\n",
              "      <td>0</td>\n",
              "      <td>3</td>\n",
              "      <td>Kelly, Mr. James</td>\n",
              "      <td>male</td>\n",
              "      <td>34.5</td>\n",
              "      <td>0</td>\n",
              "      <td>0</td>\n",
              "      <td>330911</td>\n",
              "      <td>7.8292</td>\n",
              "      <td>NaN</td>\n",
              "      <td>Q</td>\n",
              "    </tr>\n",
              "    <tr>\n",
              "      <th>1</th>\n",
              "      <td>893</td>\n",
              "      <td>1</td>\n",
              "      <td>3</td>\n",
              "      <td>Wilkes, Mrs. James (Ellen Needs)</td>\n",
              "      <td>female</td>\n",
              "      <td>47.0</td>\n",
              "      <td>1</td>\n",
              "      <td>0</td>\n",
              "      <td>363272</td>\n",
              "      <td>7.0000</td>\n",
              "      <td>NaN</td>\n",
              "      <td>S</td>\n",
              "    </tr>\n",
              "    <tr>\n",
              "      <th>2</th>\n",
              "      <td>894</td>\n",
              "      <td>0</td>\n",
              "      <td>2</td>\n",
              "      <td>Myles, Mr. Thomas Francis</td>\n",
              "      <td>male</td>\n",
              "      <td>62.0</td>\n",
              "      <td>0</td>\n",
              "      <td>0</td>\n",
              "      <td>240276</td>\n",
              "      <td>9.6875</td>\n",
              "      <td>NaN</td>\n",
              "      <td>Q</td>\n",
              "    </tr>\n",
              "    <tr>\n",
              "      <th>3</th>\n",
              "      <td>895</td>\n",
              "      <td>0</td>\n",
              "      <td>3</td>\n",
              "      <td>Wirz, Mr. Albert</td>\n",
              "      <td>male</td>\n",
              "      <td>27.0</td>\n",
              "      <td>0</td>\n",
              "      <td>0</td>\n",
              "      <td>315154</td>\n",
              "      <td>8.6625</td>\n",
              "      <td>NaN</td>\n",
              "      <td>S</td>\n",
              "    </tr>\n",
              "    <tr>\n",
              "      <th>4</th>\n",
              "      <td>896</td>\n",
              "      <td>1</td>\n",
              "      <td>3</td>\n",
              "      <td>Hirvonen, Mrs. Alexander (Helga E Lindqvist)</td>\n",
              "      <td>female</td>\n",
              "      <td>22.0</td>\n",
              "      <td>1</td>\n",
              "      <td>1</td>\n",
              "      <td>3101298</td>\n",
              "      <td>12.2875</td>\n",
              "      <td>NaN</td>\n",
              "      <td>S</td>\n",
              "    </tr>\n",
              "  </tbody>\n",
              "</table>\n",
              "</div>"
            ],
            "text/plain": [
              "   PassengerId  Survived  Pclass  ...     Fare Cabin  Embarked\n",
              "0          892         0       3  ...   7.8292   NaN         Q\n",
              "1          893         1       3  ...   7.0000   NaN         S\n",
              "2          894         0       2  ...   9.6875   NaN         Q\n",
              "3          895         0       3  ...   8.6625   NaN         S\n",
              "4          896         1       3  ...  12.2875   NaN         S\n",
              "\n",
              "[5 rows x 12 columns]"
            ]
          },
          "metadata": {},
          "execution_count": 104
        }
      ]
    },
    {
      "cell_type": "code",
      "metadata": {
        "colab": {
          "base_uri": "https://localhost:8080/"
        },
        "id": "RH3TPvLTaKC-",
        "outputId": "679bfd42-11c2-4ece-b7c1-61d6d5f97d00"
      },
      "source": [
        "#Verify the dataset for missing values\n",
        "print(\"Summary of missing values in the titanic dataset:\\n\")\n",
        "print(df_titanic_dataset.isnull().sum())\n",
        "\n",
        "#Display information about the dataset\n",
        "print(\"Information of the titanic dataset: \\n\")\n",
        "print(df_titanic_dataset.info())"
      ],
      "execution_count": 105,
      "outputs": [
        {
          "output_type": "stream",
          "name": "stdout",
          "text": [
            "Summary of missing values in the titanic dataset:\n",
            "\n",
            "PassengerId      0\n",
            "Survived         0\n",
            "Pclass           0\n",
            "Name             0\n",
            "Sex              0\n",
            "Age             86\n",
            "SibSp            0\n",
            "Parch            0\n",
            "Ticket           0\n",
            "Fare             1\n",
            "Cabin          327\n",
            "Embarked         0\n",
            "dtype: int64\n",
            "Information of the titanic dataset: \n",
            "\n",
            "<class 'pandas.core.frame.DataFrame'>\n",
            "RangeIndex: 418 entries, 0 to 417\n",
            "Data columns (total 12 columns):\n",
            " #   Column       Non-Null Count  Dtype  \n",
            "---  ------       --------------  -----  \n",
            " 0   PassengerId  418 non-null    int64  \n",
            " 1   Survived     418 non-null    int64  \n",
            " 2   Pclass       418 non-null    int64  \n",
            " 3   Name         418 non-null    object \n",
            " 4   Sex          418 non-null    object \n",
            " 5   Age          332 non-null    float64\n",
            " 6   SibSp        418 non-null    int64  \n",
            " 7   Parch        418 non-null    int64  \n",
            " 8   Ticket       418 non-null    object \n",
            " 9   Fare         417 non-null    float64\n",
            " 10  Cabin        91 non-null     object \n",
            " 11  Embarked     418 non-null    object \n",
            "dtypes: float64(2), int64(5), object(5)\n",
            "memory usage: 39.3+ KB\n",
            "None\n"
          ]
        }
      ]
    },
    {
      "cell_type": "code",
      "metadata": {
        "colab": {
          "base_uri": "https://localhost:8080/",
          "height": 438
        },
        "id": "pUZFwcVg60ng",
        "outputId": "2e298427-c82c-47b5-cd52-c8d8eefa9f7f"
      },
      "source": [
        "#Graph for survived column\n",
        "fig = plt.figure()\n",
        "ax = df_titanic_dataset['Survived'].value_counts().plot(kind='bar')\n",
        "ax.set_title(\"Bar graph\")\n",
        "ax.set_xlabel(\"Survived group\")\n",
        "ax.set_ylabel(\"Count\")"
      ],
      "execution_count": 111,
      "outputs": [
        {
          "output_type": "execute_result",
          "data": {
            "text/plain": [
              "Text(0, 0.5, 'Count')"
            ]
          },
          "metadata": {},
          "execution_count": 111
        },
        {
          "output_type": "display_data",
          "data": {
            "image/png": "[encoded data removed]",
            "text/plain": [
              "<Figure size 698.4x451.44 with 1 Axes>"
            ]
          },
          "metadata": {}
        }
      ]
    },
    {
      "cell_type": "markdown",
      "metadata": {
        "id": "8FF0SrxDuPy7"
      },
      "source": [
        "# Data Pre-processing"
      ]
    },
    {
      "cell_type": "code",
      "metadata": {
        "id": "dIkvmz7VecYQ"
      },
      "source": [
        "#Drop the passenger ID, name and ticket\n",
        "#Columns do not provide any information\n",
        "df_titanic_dataset.drop(columns=['PassengerId', 'Name', 'Ticket'],  axis = 1, inplace = True)"
      ],
      "execution_count": 59,
      "outputs": []
    },
    {
      "cell_type": "code",
      "metadata": {
        "colab": {
          "base_uri": "https://localhost:8080/",
          "height": 142
        },
        "id": "8D9YtMxvdpsM",
        "outputId": "38172366-4d49-455b-cafb-eb6b22c7138d"
      },
      "source": [
        "#Analyze the missing values of Age column\n",
        "df_titanic_dataset.groupby(df_titanic_dataset['Age'].isnull()).mean()\n",
        "\n",
        "#We observe age values are missing in random"
      ],
      "execution_count": 60,
      "outputs": [
        {
          "output_type": "execute_result",
          "data": {
            "text/html": [
              "<div>\n",
              "<style scoped>\n",
              "    .dataframe tbody tr th:only-of-type {\n",
              "        vertical-align: middle;\n",
              "    }\n",
              "\n",
              "    .dataframe tbody tr th {\n",
              "        vertical-align: top;\n",
              "    }\n",
              "\n",
              "    .dataframe thead th {\n",
              "        text-align: right;\n",
              "    }\n",
              "</style>\n",
              "<table border=\"1\" class=\"dataframe\">\n",
              "  <thead>\n",
              "    <tr style=\"text-align: right;\">\n",
              "      <th></th>\n",
              "      <th>Survived</th>\n",
              "      <th>Pclass</th>\n",
              "      <th>Age</th>\n",
              "      <th>SibSp</th>\n",
              "      <th>Parch</th>\n",
              "      <th>Fare</th>\n",
              "    </tr>\n",
              "    <tr>\n",
              "      <th>Age</th>\n",
              "      <th></th>\n",
              "      <th></th>\n",
              "      <th></th>\n",
              "      <th></th>\n",
              "      <th></th>\n",
              "      <th></th>\n",
              "    </tr>\n",
              "  </thead>\n",
              "  <tbody>\n",
              "    <tr>\n",
              "      <th>False</th>\n",
              "      <td>0.382530</td>\n",
              "      <td>2.144578</td>\n",
              "      <td>30.27259</td>\n",
              "      <td>0.481928</td>\n",
              "      <td>0.397590</td>\n",
              "      <td>40.982087</td>\n",
              "    </tr>\n",
              "    <tr>\n",
              "      <th>True</th>\n",
              "      <td>0.290698</td>\n",
              "      <td>2.732558</td>\n",
              "      <td>NaN</td>\n",
              "      <td>0.313953</td>\n",
              "      <td>0.372093</td>\n",
              "      <td>15.017055</td>\n",
              "    </tr>\n",
              "  </tbody>\n",
              "</table>\n",
              "</div>"
            ],
            "text/plain": [
              "       Survived    Pclass       Age     SibSp     Parch       Fare\n",
              "Age                                                               \n",
              "False  0.382530  2.144578  30.27259  0.481928  0.397590  40.982087\n",
              "True   0.290698  2.732558       NaN  0.313953  0.372093  15.017055"
            ]
          },
          "metadata": {},
          "execution_count": 60
        }
      ]
    },
    {
      "cell_type": "code",
      "metadata": {
        "colab": {
          "base_uri": "https://localhost:8080/",
          "height": 203
        },
        "id": "dd6kKoHyeZ6z",
        "outputId": "1bb85f51-2361-477a-968a-9471e806188e"
      },
      "source": [
        "#Fill missing values in age with average\n",
        "df_titanic_dataset['Age'].fillna(df_titanic_dataset['Age'].mean(), inplace = True)\n",
        "df_titanic_dataset.head()"
      ],
      "execution_count": 63,
      "outputs": [
        {
          "output_type": "execute_result",
          "data": {
            "text/html": [
              "<div>\n",
              "<style scoped>\n",
              "    .dataframe tbody tr th:only-of-type {\n",
              "        vertical-align: middle;\n",
              "    }\n",
              "\n",
              "    .dataframe tbody tr th {\n",
              "        vertical-align: top;\n",
              "    }\n",
              "\n",
              "    .dataframe thead th {\n",
              "        text-align: right;\n",
              "    }\n",
              "</style>\n",
              "<table border=\"1\" class=\"dataframe\">\n",
              "  <thead>\n",
              "    <tr style=\"text-align: right;\">\n",
              "      <th></th>\n",
              "      <th>Survived</th>\n",
              "      <th>Pclass</th>\n",
              "      <th>Sex</th>\n",
              "      <th>Age</th>\n",
              "      <th>SibSp</th>\n",
              "      <th>Parch</th>\n",
              "      <th>Fare</th>\n",
              "      <th>Cabin</th>\n",
              "      <th>Embarked</th>\n",
              "    </tr>\n",
              "  </thead>\n",
              "  <tbody>\n",
              "    <tr>\n",
              "      <th>0</th>\n",
              "      <td>0</td>\n",
              "      <td>3</td>\n",
              "      <td>male</td>\n",
              "      <td>34.5</td>\n",
              "      <td>0</td>\n",
              "      <td>0</td>\n",
              "      <td>7.8292</td>\n",
              "      <td>NaN</td>\n",
              "      <td>Q</td>\n",
              "    </tr>\n",
              "    <tr>\n",
              "      <th>1</th>\n",
              "      <td>1</td>\n",
              "      <td>3</td>\n",
              "      <td>female</td>\n",
              "      <td>47.0</td>\n",
              "      <td>1</td>\n",
              "      <td>0</td>\n",
              "      <td>7.0000</td>\n",
              "      <td>NaN</td>\n",
              "      <td>S</td>\n",
              "    </tr>\n",
              "    <tr>\n",
              "      <th>2</th>\n",
              "      <td>0</td>\n",
              "      <td>2</td>\n",
              "      <td>male</td>\n",
              "      <td>62.0</td>\n",
              "      <td>0</td>\n",
              "      <td>0</td>\n",
              "      <td>9.6875</td>\n",
              "      <td>NaN</td>\n",
              "      <td>Q</td>\n",
              "    </tr>\n",
              "    <tr>\n",
              "      <th>3</th>\n",
              "      <td>0</td>\n",
              "      <td>3</td>\n",
              "      <td>male</td>\n",
              "      <td>27.0</td>\n",
              "      <td>0</td>\n",
              "      <td>0</td>\n",
              "      <td>8.6625</td>\n",
              "      <td>NaN</td>\n",
              "      <td>S</td>\n",
              "    </tr>\n",
              "    <tr>\n",
              "      <th>4</th>\n",
              "      <td>1</td>\n",
              "      <td>3</td>\n",
              "      <td>female</td>\n",
              "      <td>22.0</td>\n",
              "      <td>1</td>\n",
              "      <td>1</td>\n",
              "      <td>12.2875</td>\n",
              "      <td>NaN</td>\n",
              "      <td>S</td>\n",
              "    </tr>\n",
              "  </tbody>\n",
              "</table>\n",
              "</div>"
            ],
            "text/plain": [
              "   Survived  Pclass     Sex   Age  SibSp  Parch     Fare Cabin Embarked\n",
              "0         0       3    male  34.5      0      0   7.8292   NaN        Q\n",
              "1         1       3  female  47.0      1      0   7.0000   NaN        S\n",
              "2         0       2    male  62.0      0      0   9.6875   NaN        Q\n",
              "3         0       3    male  27.0      0      0   8.6625   NaN        S\n",
              "4         1       3  female  22.0      1      1  12.2875   NaN        S"
            ]
          },
          "metadata": {},
          "execution_count": 63
        }
      ]
    },
    {
      "cell_type": "code",
      "metadata": {
        "colab": {
          "base_uri": "https://localhost:8080/",
          "height": 80
        },
        "id": "jg98WMrjgNxn",
        "outputId": "18368df7-8598-4e86-92b5-b022c928f956"
      },
      "source": [
        "#Missing value for fare in the dataset\n",
        "df_titanic_dataset[df_titanic_dataset['Fare'].isnull() == True]"
      ],
      "execution_count": 65,
      "outputs": [
        {
          "output_type": "execute_result",
          "data": {
            "text/html": [
              "<div>\n",
              "<style scoped>\n",
              "    .dataframe tbody tr th:only-of-type {\n",
              "        vertical-align: middle;\n",
              "    }\n",
              "\n",
              "    .dataframe tbody tr th {\n",
              "        vertical-align: top;\n",
              "    }\n",
              "\n",
              "    .dataframe thead th {\n",
              "        text-align: right;\n",
              "    }\n",
              "</style>\n",
              "<table border=\"1\" class=\"dataframe\">\n",
              "  <thead>\n",
              "    <tr style=\"text-align: right;\">\n",
              "      <th></th>\n",
              "      <th>Survived</th>\n",
              "      <th>Pclass</th>\n",
              "      <th>Sex</th>\n",
              "      <th>Age</th>\n",
              "      <th>SibSp</th>\n",
              "      <th>Parch</th>\n",
              "      <th>Fare</th>\n",
              "      <th>Cabin</th>\n",
              "      <th>Embarked</th>\n",
              "    </tr>\n",
              "  </thead>\n",
              "  <tbody>\n",
              "    <tr>\n",
              "      <th>152</th>\n",
              "      <td>0</td>\n",
              "      <td>3</td>\n",
              "      <td>male</td>\n",
              "      <td>60.5</td>\n",
              "      <td>0</td>\n",
              "      <td>0</td>\n",
              "      <td>NaN</td>\n",
              "      <td>NaN</td>\n",
              "      <td>S</td>\n",
              "    </tr>\n",
              "  </tbody>\n",
              "</table>\n",
              "</div>"
            ],
            "text/plain": [
              "     Survived  Pclass   Sex   Age  SibSp  Parch  Fare Cabin Embarked\n",
              "152         0       3  male  60.5      0      0   NaN   NaN        S"
            ]
          },
          "metadata": {},
          "execution_count": 65
        }
      ]
    },
    {
      "cell_type": "code",
      "metadata": {
        "colab": {
          "base_uri": "https://localhost:8080/",
          "height": 220
        },
        "id": "mBkG1nBjkDtb",
        "outputId": "707928dc-4654-4d9d-8600-16ba52490ae8"
      },
      "source": [
        "#Average value for fare with Pclass 3\n",
        "print(\"Average value: \", df_titanic_dataset[df_titanic_dataset['Pclass'] == 3]['Fare'].mean())\n",
        "\n",
        "#Fill missing values in fare\n",
        "df_titanic_dataset['Fare'].fillna(df_titanic_dataset[df_titanic_dataset['Pclass'] == 3]['Fare'].mean(), inplace = True)\n",
        "df_titanic_dataset.head()"
      ],
      "execution_count": 66,
      "outputs": [
        {
          "output_type": "stream",
          "name": "stdout",
          "text": [
            "Average value:  12.459677880184334\n"
          ]
        },
        {
          "output_type": "execute_result",
          "data": {
            "text/html": [
              "<div>\n",
              "<style scoped>\n",
              "    .dataframe tbody tr th:only-of-type {\n",
              "        vertical-align: middle;\n",
              "    }\n",
              "\n",
              "    .dataframe tbody tr th {\n",
              "        vertical-align: top;\n",
              "    }\n",
              "\n",
              "    .dataframe thead th {\n",
              "        text-align: right;\n",
              "    }\n",
              "</style>\n",
              "<table border=\"1\" class=\"dataframe\">\n",
              "  <thead>\n",
              "    <tr style=\"text-align: right;\">\n",
              "      <th></th>\n",
              "      <th>Survived</th>\n",
              "      <th>Pclass</th>\n",
              "      <th>Sex</th>\n",
              "      <th>Age</th>\n",
              "      <th>SibSp</th>\n",
              "      <th>Parch</th>\n",
              "      <th>Fare</th>\n",
              "      <th>Cabin</th>\n",
              "      <th>Embarked</th>\n",
              "    </tr>\n",
              "  </thead>\n",
              "  <tbody>\n",
              "    <tr>\n",
              "      <th>0</th>\n",
              "      <td>0</td>\n",
              "      <td>3</td>\n",
              "      <td>male</td>\n",
              "      <td>34.5</td>\n",
              "      <td>0</td>\n",
              "      <td>0</td>\n",
              "      <td>7.8292</td>\n",
              "      <td>NaN</td>\n",
              "      <td>Q</td>\n",
              "    </tr>\n",
              "    <tr>\n",
              "      <th>1</th>\n",
              "      <td>1</td>\n",
              "      <td>3</td>\n",
              "      <td>female</td>\n",
              "      <td>47.0</td>\n",
              "      <td>1</td>\n",
              "      <td>0</td>\n",
              "      <td>7.0000</td>\n",
              "      <td>NaN</td>\n",
              "      <td>S</td>\n",
              "    </tr>\n",
              "    <tr>\n",
              "      <th>2</th>\n",
              "      <td>0</td>\n",
              "      <td>2</td>\n",
              "      <td>male</td>\n",
              "      <td>62.0</td>\n",
              "      <td>0</td>\n",
              "      <td>0</td>\n",
              "      <td>9.6875</td>\n",
              "      <td>NaN</td>\n",
              "      <td>Q</td>\n",
              "    </tr>\n",
              "    <tr>\n",
              "      <th>3</th>\n",
              "      <td>0</td>\n",
              "      <td>3</td>\n",
              "      <td>male</td>\n",
              "      <td>27.0</td>\n",
              "      <td>0</td>\n",
              "      <td>0</td>\n",
              "      <td>8.6625</td>\n",
              "      <td>NaN</td>\n",
              "      <td>S</td>\n",
              "    </tr>\n",
              "    <tr>\n",
              "      <th>4</th>\n",
              "      <td>1</td>\n",
              "      <td>3</td>\n",
              "      <td>female</td>\n",
              "      <td>22.0</td>\n",
              "      <td>1</td>\n",
              "      <td>1</td>\n",
              "      <td>12.2875</td>\n",
              "      <td>NaN</td>\n",
              "      <td>S</td>\n",
              "    </tr>\n",
              "  </tbody>\n",
              "</table>\n",
              "</div>"
            ],
            "text/plain": [
              "   Survived  Pclass     Sex   Age  SibSp  Parch     Fare Cabin Embarked\n",
              "0         0       3    male  34.5      0      0   7.8292   NaN        Q\n",
              "1         1       3  female  47.0      1      0   7.0000   NaN        S\n",
              "2         0       2    male  62.0      0      0   9.6875   NaN        Q\n",
              "3         0       3    male  27.0      0      0   8.6625   NaN        S\n",
              "4         1       3  female  22.0      1      1  12.2875   NaN        S"
            ]
          },
          "metadata": {},
          "execution_count": 66
        }
      ]
    },
    {
      "cell_type": "code",
      "metadata": {
        "colab": {
          "base_uri": "https://localhost:8080/",
          "height": 172
        },
        "id": "1rvPUzyZlHKs",
        "outputId": "5dae9e95-092a-467d-9234-4aa599287b81"
      },
      "source": [
        "#Observe missing values in Cabin column\n",
        "df_titanic_dataset.pivot_table(index =['Pclass'],\n",
        "                       values =['Age', 'Fare', 'Cabin', 'Embarked'],\n",
        "                       aggfunc ='count')\n",
        "\n",
        "#We observe less cabins are assigned to passengers with class 2 and 3.\n",
        "#Due to which the column is not complelety eliminated. The values are not missing at random."
      ],
      "execution_count": 67,
      "outputs": [
        {
          "output_type": "execute_result",
          "data": {
            "text/html": [
              "<div>\n",
              "<style scoped>\n",
              "    .dataframe tbody tr th:only-of-type {\n",
              "        vertical-align: middle;\n",
              "    }\n",
              "\n",
              "    .dataframe tbody tr th {\n",
              "        vertical-align: top;\n",
              "    }\n",
              "\n",
              "    .dataframe thead th {\n",
              "        text-align: right;\n",
              "    }\n",
              "</style>\n",
              "<table border=\"1\" class=\"dataframe\">\n",
              "  <thead>\n",
              "    <tr style=\"text-align: right;\">\n",
              "      <th></th>\n",
              "      <th>Age</th>\n",
              "      <th>Cabin</th>\n",
              "      <th>Embarked</th>\n",
              "      <th>Fare</th>\n",
              "    </tr>\n",
              "    <tr>\n",
              "      <th>Pclass</th>\n",
              "      <th></th>\n",
              "      <th></th>\n",
              "      <th></th>\n",
              "      <th></th>\n",
              "    </tr>\n",
              "  </thead>\n",
              "  <tbody>\n",
              "    <tr>\n",
              "      <th>1</th>\n",
              "      <td>107</td>\n",
              "      <td>80</td>\n",
              "      <td>107</td>\n",
              "      <td>107</td>\n",
              "    </tr>\n",
              "    <tr>\n",
              "      <th>2</th>\n",
              "      <td>93</td>\n",
              "      <td>7</td>\n",
              "      <td>93</td>\n",
              "      <td>93</td>\n",
              "    </tr>\n",
              "    <tr>\n",
              "      <th>3</th>\n",
              "      <td>218</td>\n",
              "      <td>4</td>\n",
              "      <td>218</td>\n",
              "      <td>218</td>\n",
              "    </tr>\n",
              "  </tbody>\n",
              "</table>\n",
              "</div>"
            ],
            "text/plain": [
              "        Age  Cabin  Embarked  Fare\n",
              "Pclass                            \n",
              "1       107     80       107   107\n",
              "2        93      7        93    93\n",
              "3       218      4       218   218"
            ]
          },
          "metadata": {},
          "execution_count": 67
        }
      ]
    },
    {
      "cell_type": "code",
      "metadata": {
        "id": "FGUX7untotWl"
      },
      "source": [
        "#Fill in missing values for Cabin\n",
        "df_titanic_dataset['Cabin'] = np.where(df_titanic_dataset['Cabin'].isnull(), 0, 1)"
      ],
      "execution_count": 68,
      "outputs": []
    },
    {
      "cell_type": "code",
      "metadata": {
        "colab": {
          "base_uri": "https://localhost:8080/"
        },
        "id": "wfgDnf0Zr9ND",
        "outputId": "7ac8527f-04d9-4d99-c013-0ef61c41c8a9"
      },
      "source": [
        "#Code to handle categorical variables\n",
        "ls_unique_values = pd.unique(df_titanic_dataset['Sex'])\n",
        "variable_mapping = {}\n",
        "count = 0\n",
        "for value in ls_unique_values:\n",
        "  variable_mapping[value] = count\n",
        "  count = count + 1\n",
        "print(\"Label map for {}: {}\".format(\"Sex\", variable_mapping))\n",
        "df_titanic_dataset['Sex'] = df_titanic_dataset['Sex'].map(variable_mapping)"
      ],
      "execution_count": 69,
      "outputs": [
        {
          "output_type": "stream",
          "name": "stdout",
          "text": [
            "Label map for Sex: {'male': 0, 'female': 1}\n"
          ]
        }
      ]
    },
    {
      "cell_type": "code",
      "metadata": {
        "colab": {
          "base_uri": "https://localhost:8080/",
          "height": 203
        },
        "id": "BuoXMufptGPf",
        "outputId": "aec8078b-c0e5-4044-8c06-98ccd4a77dda"
      },
      "source": [
        "#We observe column Embarked\n",
        "df_titanic_dataset.pivot_table(index =['Survived'],\n",
        "                       values =['Age', 'Fare', 'Cabin', 'Embarked'],\n",
        "                       aggfunc ='count')\n",
        "\n",
        "#Does not provide any information. Due to which the column is dropped.\n",
        "df_titanic_dataset.drop(columns=['Embarked'], axis = 1, inplace = True)\n",
        "df_titanic_dataset.head()"
      ],
      "execution_count": 70,
      "outputs": [
        {
          "output_type": "execute_result",
          "data": {
            "text/html": [
              "<div>\n",
              "<style scoped>\n",
              "    .dataframe tbody tr th:only-of-type {\n",
              "        vertical-align: middle;\n",
              "    }\n",
              "\n",
              "    .dataframe tbody tr th {\n",
              "        vertical-align: top;\n",
              "    }\n",
              "\n",
              "    .dataframe thead th {\n",
              "        text-align: right;\n",
              "    }\n",
              "</style>\n",
              "<table border=\"1\" class=\"dataframe\">\n",
              "  <thead>\n",
              "    <tr style=\"text-align: right;\">\n",
              "      <th></th>\n",
              "      <th>Survived</th>\n",
              "      <th>Pclass</th>\n",
              "      <th>Sex</th>\n",
              "      <th>Age</th>\n",
              "      <th>SibSp</th>\n",
              "      <th>Parch</th>\n",
              "      <th>Fare</th>\n",
              "      <th>Cabin</th>\n",
              "    </tr>\n",
              "  </thead>\n",
              "  <tbody>\n",
              "    <tr>\n",
              "      <th>0</th>\n",
              "      <td>0</td>\n",
              "      <td>3</td>\n",
              "      <td>0</td>\n",
              "      <td>34.5</td>\n",
              "      <td>0</td>\n",
              "      <td>0</td>\n",
              "      <td>7.8292</td>\n",
              "      <td>0</td>\n",
              "    </tr>\n",
              "    <tr>\n",
              "      <th>1</th>\n",
              "      <td>1</td>\n",
              "      <td>3</td>\n",
              "      <td>1</td>\n",
              "      <td>47.0</td>\n",
              "      <td>1</td>\n",
              "      <td>0</td>\n",
              "      <td>7.0000</td>\n",
              "      <td>0</td>\n",
              "    </tr>\n",
              "    <tr>\n",
              "      <th>2</th>\n",
              "      <td>0</td>\n",
              "      <td>2</td>\n",
              "      <td>0</td>\n",
              "      <td>62.0</td>\n",
              "      <td>0</td>\n",
              "      <td>0</td>\n",
              "      <td>9.6875</td>\n",
              "      <td>0</td>\n",
              "    </tr>\n",
              "    <tr>\n",
              "      <th>3</th>\n",
              "      <td>0</td>\n",
              "      <td>3</td>\n",
              "      <td>0</td>\n",
              "      <td>27.0</td>\n",
              "      <td>0</td>\n",
              "      <td>0</td>\n",
              "      <td>8.6625</td>\n",
              "      <td>0</td>\n",
              "    </tr>\n",
              "    <tr>\n",
              "      <th>4</th>\n",
              "      <td>1</td>\n",
              "      <td>3</td>\n",
              "      <td>1</td>\n",
              "      <td>22.0</td>\n",
              "      <td>1</td>\n",
              "      <td>1</td>\n",
              "      <td>12.2875</td>\n",
              "      <td>0</td>\n",
              "    </tr>\n",
              "  </tbody>\n",
              "</table>\n",
              "</div>"
            ],
            "text/plain": [
              "   Survived  Pclass  Sex   Age  SibSp  Parch     Fare  Cabin\n",
              "0         0       3    0  34.5      0      0   7.8292      0\n",
              "1         1       3    1  47.0      1      0   7.0000      0\n",
              "2         0       2    0  62.0      0      0   9.6875      0\n",
              "3         0       3    0  27.0      0      0   8.6625      0\n",
              "4         1       3    1  22.0      1      1  12.2875      0"
            ]
          },
          "metadata": {},
          "execution_count": 70
        }
      ]
    },
    {
      "cell_type": "markdown",
      "metadata": {
        "id": "grIkmY95t39A"
      },
      "source": [
        "# Model Development"
      ]
    },
    {
      "cell_type": "code",
      "metadata": {
        "id": "fRh7rVyht25C"
      },
      "source": [
        "#Separate the data and target column\n",
        "data = df_titanic_dataset.iloc[:,1:8]\n",
        "target = df_titanic_dataset.iloc[:,0]"
      ],
      "execution_count": 92,
      "outputs": []
    },
    {
      "cell_type": "code",
      "metadata": {
        "id": "wlx-hPRHuqx-"
      },
      "source": [
        "#Forming the training and testing dataset\n",
        "#80% of training set, 20% testing set\n",
        "data_train, data_test, target_train, target_test = train_test_split(data, target, test_size = 0.2, random_state = 72)"
      ],
      "execution_count": 93,
      "outputs": []
    },
    {
      "cell_type": "code",
      "metadata": {
        "colab": {
          "base_uri": "https://localhost:8080/"
        },
        "id": "nXmtMAIhvF0r",
        "outputId": "6114cd70-07cf-49e7-ef89-0f187f004112"
      },
      "source": [
        "#Display the structure of dataset\n",
        "print(\"Training dataset: \", data_train.shape)\n",
        "print(\"Training dataset target: \", target_train.shape)\n",
        "print(\"Testing dataset: \", data_test.shape)\n",
        "print(\"Testing dataset target: \", target_test.shape)"
      ],
      "execution_count": 94,
      "outputs": [
        {
          "output_type": "stream",
          "name": "stdout",
          "text": [
            "Training dataset:  (334, 7)\n",
            "Training dataset target:  (334,)\n",
            "Testing dataset:  (84, 7)\n",
            "Testing dataset target:  (84,)\n"
          ]
        }
      ]
    },
    {
      "cell_type": "code",
      "metadata": {
        "colab": {
          "base_uri": "https://localhost:8080/"
        },
        "id": "1WajWxdIvNRa",
        "outputId": "06d76438-de66-448f-ce83-c2aae36e63ad"
      },
      "source": [
        "#Display the top 5 rows\n",
        "print(\"Training dataset:\\n\", data_train.head())\n",
        "print(\"Training dataset target:\\n\", target_train.head())\n",
        "print(\"Testing dataset:\\n\", data_test.head())\n",
        "print(\"Testing dataset target:\\n\", target_test.head())"
      ],
      "execution_count": 95,
      "outputs": [
        {
          "output_type": "stream",
          "name": "stdout",
          "text": [
            "Training dataset:\n",
            "      Pclass  Sex       Age  SibSp  Parch     Fare  Cabin\n",
            "105       3    0  28.00000      0      0  22.5250      0\n",
            "120       2    1  12.00000      0      0  15.7500      0\n",
            "111       3    1  30.27259      0      0   7.7792      0\n",
            "44        1    1  45.00000      1      0  52.5542      1\n",
            "33        3    1  30.27259      1      2  23.4500      0\n",
            "Training dataset target:\n",
            " 105    0\n",
            "120    1\n",
            "111    1\n",
            "44     1\n",
            "33     1\n",
            "Name: Survived, dtype: int64\n",
            "Testing dataset:\n",
            "      Pclass  Sex       Age  SibSp  Parch     Fare  Cabin\n",
            "284       3    1   2.00000      1      1  20.2125      0\n",
            "328       2    0  29.00000      1      0  26.0000      0\n",
            "191       1    0  30.27259      0      0  26.0000      0\n",
            "305       1    1  64.00000      1      1  26.5500      1\n",
            "177       1    0  54.00000      1      0  55.4417      1\n",
            "Testing dataset target:\n",
            " 284    1\n",
            "328    0\n",
            "191    0\n",
            "305    1\n",
            "177    0\n",
            "Name: Survived, dtype: int64\n"
          ]
        }
      ]
    },
    {
      "cell_type": "code",
      "metadata": {
        "id": "jFLpOZxPvUGu"
      },
      "source": [
        "#Calculate the performance metrics\n",
        "sns.set(rc={'figure.figsize':(9.7,6.27)})\n",
        "def cal_performance_metric(test_label, prediction_label, prediction_prob):\n",
        "\n",
        "  # Model Accuracy\n",
        "  print('Accuracy: %0.3f' % accuracy_score(test_label, prediction_label))\n",
        "  \n",
        "  # Precision\n",
        "  print('Precision: %0.3f' % precision_score(test_label, prediction_label))  \n",
        "  \n",
        "  # Recall\n",
        "  print('Recall: %0.3f' % recall_score(test_label, prediction_label))\n",
        "\n",
        "  # F1 score\n",
        "  print('F1 score: %0.3f' % f1_score(test_label, prediction_label))\n",
        "\n",
        "  # ROC curve\n",
        "  ROC = roc_auc_score(test_label, prediction_prob)\n",
        "  print('ROC Curve: %0.3f' % ROC)\n",
        "  \n",
        "  # Confusion matrix\n",
        "  results = confusion_matrix(test_label, prediction_label)\n",
        "  print(\"Confusion matrix: \\n\", sns.heatmap(results, annot=True, fmt='g')) "
      ],
      "execution_count": 112,
      "outputs": []
    },
    {
      "cell_type": "markdown",
      "metadata": {
        "id": "uZJ7G0Ox1nZj"
      },
      "source": [
        "## Support Vector Machine"
      ]
    },
    {
      "cell_type": "code",
      "metadata": {
        "colab": {
          "base_uri": "https://localhost:8080/"
        },
        "id": "0vJarUu-2Bmv",
        "outputId": "cebc1202-1263-4f37-e09d-f5c4588e8b61"
      },
      "source": [
        "#Analyze the scores using SVM model\n",
        "model_SVM = svm.SVC(kernel = 'linear', C = 5, random_state = 50)\n",
        "scores = cross_val_score(model_SVM, data, target, cv = 5)\n",
        "\n",
        "print(\"Model %0.2f accuracy with a standard deviation of %0.2f\" % (scores.mean(), scores.std()))"
      ],
      "execution_count": 103,
      "outputs": [
        {
          "output_type": "stream",
          "name": "stdout",
          "text": [
            "Model 1.00 accuracy with a standard deviation of 0.00\n"
          ]
        }
      ]
    },
    {
      "cell_type": "markdown",
      "metadata": {
        "id": "cwlbrXdzw97w"
      },
      "source": [
        "## Random Forest"
      ]
    },
    {
      "cell_type": "code",
      "metadata": {
        "colab": {
          "base_uri": "https://localhost:8080/"
        },
        "id": "Bryg2eYUwDAn",
        "outputId": "f713c7f4-c8af-41df-91f1-4d776998a336"
      },
      "source": [
        "#Create the Random Forest Model using Grid Search CV\n",
        "RF_model = RandomForestClassifier()\n",
        "parameters = {'n_estimators': [10, 20, 30 , 40, 50], 'max_depth': [5, 10]}\n",
        "grid = GridSearchCV(RF_model, param_grid = parameters)\n",
        "grid.fit(data_train, target_train)\n",
        "print(\"Optimal model structure:\\n\", grid.best_estimator_)\n",
        "\n",
        "#Predict values for test dataset\n",
        "prediction = grid.predict(data_test)\n",
        "\n",
        "#Predict proabilities for test dataset\n",
        "prediction_prob = grid.predict_proba(data_test)\n",
        "#Select Positive Outcome\n",
        "prediction_prob = prediction_prob[:, 1]"
      ],
      "execution_count": 98,
      "outputs": [
        {
          "output_type": "stream",
          "name": "stdout",
          "text": [
            "Optimal model structure:\n",
            " RandomForestClassifier(bootstrap=True, ccp_alpha=0.0, class_weight=None,\n",
            "                       criterion='gini', max_depth=5, max_features='auto',\n",
            "                       max_leaf_nodes=None, max_samples=None,\n",
            "                       min_impurity_decrease=0.0, min_impurity_split=None,\n",
            "                       min_samples_leaf=1, min_samples_split=2,\n",
            "                       min_weight_fraction_leaf=0.0, n_estimators=20,\n",
            "                       n_jobs=None, oob_score=False, random_state=None,\n",
            "                       verbose=0, warm_start=False)\n"
          ]
        }
      ]
    },
    {
      "cell_type": "code",
      "metadata": {
        "colab": {
          "base_uri": "https://localhost:8080/",
          "height": 513
        },
        "id": "4Gp9uYwpzOCX",
        "outputId": "e605e118-f633-4102-8829-6e188e25807b"
      },
      "source": [
        "#Calculate performance of the Random Forest\n",
        "cal_performance_metric(target_test, prediction, prediction_prob)"
      ],
      "execution_count": 113,
      "outputs": [
        {
          "output_type": "stream",
          "name": "stdout",
          "text": [
            "Accuracy: 1.000\n",
            "Precision: 1.000\n",
            "Recall: 1.000\n",
            "F1 score: 1.000\n",
            "ROC Curve: 1.000\n",
            "Confusion matrix: \n",
            " AxesSubplot(0.125,0.125;0.62x0.755)\n"
          ]
        },
        {
          "output_type": "display_data",
          "data": {
            "image/png": "[encoded data removed]",
            "text/plain": [
              "<Figure size 698.4x451.44 with 2 Axes>"
            ]
          },
          "metadata": {}
        }
      ]
    },
    {
      "cell_type": "markdown",
      "metadata": {
        "id": "oyJRLxIe02ZQ"
      },
      "source": [
        "## Naïve bayes"
      ]
    },
    {
      "cell_type": "code",
      "metadata": {
        "colab": {
          "base_uri": "https://localhost:8080/"
        },
        "id": "e5uLedRk0nQP",
        "outputId": "a7b0da14-966b-4113-91cc-e6bc13700f16"
      },
      "source": [
        "#Create the Naïve bayes using Grid Search CV\n",
        "NB_model = GaussianNB()\n",
        "parameters = {'var_smoothing': [1e-09, 0.5, 1]}\n",
        "grid = GridSearchCV(NB_model, param_grid = parameters, cv = 2)\n",
        "grid.fit(data_train, target_train)\n",
        "print(\"Optimal model structure:\\n\", grid.best_estimator_)\n",
        "\n",
        "#Predict values for test dataset\n",
        "prediction = grid.predict(data_test)\n",
        "\n",
        "#Predict proabilities for test dataset\n",
        "prediction_prob = grid.predict_proba(data_test)\n",
        "#Select Positive Outcome\n",
        "prediction_prob = prediction_prob[:, 1]"
      ],
      "execution_count": 100,
      "outputs": [
        {
          "output_type": "stream",
          "name": "stdout",
          "text": [
            "Optimal model structure:\n",
            " GaussianNB(priors=None, var_smoothing=1e-09)\n"
          ]
        }
      ]
    },
    {
      "cell_type": "code",
      "metadata": {
        "colab": {
          "base_uri": "https://localhost:8080/",
          "height": 513
        },
        "id": "b5goUVZp09Nk",
        "outputId": "dc9fe143-c140-4fdd-981e-9132f38956c8"
      },
      "source": [
        "#Performance for the Naïve bayes model\n",
        "cal_performance_metric(target_test, prediction, prediction_prob)"
      ],
      "execution_count": 101,
      "outputs": [
        {
          "output_type": "stream",
          "name": "stdout",
          "text": [
            "Accuracy: 1.000\n",
            "Precision: 1.000\n",
            "Recall: 1.000\n",
            "F1 score: 1.000\n",
            "ROC Curve: 1.000\n",
            "Confusion matrix: \n",
            " AxesSubplot(0.125,0.125;0.62x0.755)\n"
          ]
        },
        {
          "output_type": "display_data",
          "data": {
            "image/png": "[encoded data removed]",
            "text/plain": [
              "<Figure size 698.4x451.44 with 2 Axes>"
            ]
          },
          "metadata": {}
        }
      ]
    },
    {
      "cell_type": "markdown",
      "metadata": {
        "id": "X8VTbFNu5CIc"
      },
      "source": [
        "# Performance summary"
      ]
    },
    {
      "cell_type": "markdown",
      "metadata": {
        "id": "3aZT3JYb5G5u"
      },
      "source": [
        "We observe 100% accuracy using the test dataset for all the models. We analyzed the scores using cross validation technique to achieve the actual score for the dataset. The model generates 50 True Positive and 34 True Negative. The False Positive and False Negative is 0. Due to these results, the remaining performance parameters such as precision, recall and F1 score is 100%."
      ]
    }
  ]
}